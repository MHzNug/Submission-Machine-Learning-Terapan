{
 "cells": [
  {
   "cell_type": "markdown",
   "id": "728a3d53",
   "metadata": {},
   "source": [
    "# **Predictive Analytics: Prediksi Tanaman yang Cocok Ditanam Berdasarkan Kondisi Iklim**\n",
    "---"
   ]
  },
  {
   "cell_type": "markdown",
   "id": "e24cc98d",
   "metadata": {},
   "source": [
    "![Image Corp](https://storage.googleapis.com/kaggle-datasets-images/7367814/11736333/0dd2a975741503de21815f4405bde8b3/dataset-cover.jpg?t=2025-05-08-17-03-12)"
   ]
  },
  {
   "cell_type": "markdown",
   "id": "1991c492",
   "metadata": {},
   "source": [
    "  <style>\n",
    "    body {\n",
    "      font-family: Arial, sans-serif;\n",
    "      margin: 40px;\n",
    "      line-height: 1.6;\n",
    "    }\n",
    "    p {\n",
    "      text-align: justify;\n",
    "    }\n",
    "  </style>\n",
    "<p>Indonesia sebagai negara agraris memiliki potensi besar dalam sektor pertanian. Namun, produktivitas pertanian sering kali terhambat oleh kurangnya informasi yang akurat mengenai kecocokan jenis tanaman dengan kondisi lahan dan lingkungan tertentu. Banyak petani masih mengandalkan pengalaman atau perkiraan dalam menentukan tanaman yang akan ditanam, tanpa mempertimbangkan data seperti kandungan unsur hara tanah, suhu, kelembaban, pH tanah, dan curah hujan.</p>\n",
    "\n",
    "<p>Seiring berkembangnya teknologi dan ketersediaan data, pendekatan berbasis data science dan machine learning mulai digunakan dalam mendukung pengambilan keputusan di bidang pertanian. Salah satu penerapannya adalah memprediksi jenis tanaman yang paling sesuai untuk ditanam berdasarkan kondisi lingkungan dan tanah yang tersedia.</p>\n",
    "\n",
    "<p>Dataset ini dikembangkan untuk menjawab kebutuhan tersebut. Dengan memanfaatkan informasi seperti kandungan nitrogen (N), fosfor (P), kalium (K), suhu, kelembaban, pH tanah, dan curah hujan, model machine learning dapat dilatih untuk merekomendasikan tanaman yang paling sesuai. Hal ini bertujuan untuk membantu petani meningkatkan hasil panen, mengurangi risiko gagal panen, serta mendukung ketahanan pangan nasional.</p>\n",
    "\n",
    "<p>Melalui proyek ini, diharapkan tercipta sistem rekomendasi yang tidak hanya bermanfaat secara praktis di lapangan, tetapi juga mendorong transformasi pertanian tradisional menuju pertanian cerdas (smart agriculture) berbasis teknologi dan data.</p>"
   ]
  },
  {
   "cell_type": "markdown",
   "id": "6b4c76fa",
   "metadata": {},
   "source": [
    "# Import Library"
   ]
  },
  {
   "cell_type": "markdown",
   "id": "fcaacff8",
   "metadata": {},
   "source": [
    "Melakukan import pustakan yang akan digunakan dalam proyek"
   ]
  },
  {
   "cell_type": "code",
   "execution_count": null,
   "id": "7ef8171a",
   "metadata": {},
   "outputs": [],
   "source": [
    "# Data Manipulation\n",
    "import numpy as np\n",
    "import pandas as pd\n",
    "\n",
    "# Visualization\n",
    "import matplotlib.pyplot as plt\n",
    "import seaborn as sns\n",
    "\n",
    "# Modeling - Classifiers\n",
    "from sklearn.ensemble import RandomForestClassifier\n",
    "from sklearn.neighbors import KNeighborsClassifier\n",
    "from sklearn.tree import DecisionTreeClassifier\n",
    "\n",
    "# Modeling - Evaluation\n",
    "from sklearn.metrics import (\n",
    "    accuracy_score,\n",
    "    roc_auc_score,\n",
    ")\n",
    "\n",
    "# Modeling - Preprocessing\n",
    "from sklearn.model_selection import train_test_split\n",
    "from sklearn.preprocessing import StandardScaler\n",
    "\n",
    "# Statistical Analysis\n",
    "from scipy.stats import skew\n"
   ]
  },
  {
   "cell_type": "markdown",
   "id": "655e07a6",
   "metadata": {},
   "source": [
    "# Data Understanding"
   ]
  },
  {
   "cell_type": "markdown",
   "id": "2aa74655",
   "metadata": {},
   "source": [
    "Memahami informasi dalam data dan menentukan kualitas dari data"
   ]
  },
  {
   "cell_type": "markdown",
   "id": "78fa06e9",
   "metadata": {},
   "source": [
    "## Data Loading"
   ]
  },
  {
   "cell_type": "markdown",
   "id": "b182996f",
   "metadata": {},
   "source": [
    "Mengunduh dataset dari [Kaggle](https://www.kaggle.com/)"
   ]
  },
  {
   "cell_type": "markdown",
   "id": "bc354960",
   "metadata": {},
   "source": [
    "**Informasi Dataset**\n",
    "\n",
    "| Jenis        | Keterangan                                                                                           |\n",
    "|--------------|------------------------------------------------------------------------------------------------------|\n",
    "| Title        | Crop Recommendation Dataset                                                                          |\n",
    "| Source       | [Kaggle](https://www.kaggle.com/datasets/madhuraatmarambhagat/crop-recommendation-dataset/data)                  |\n",
    "| Maintainer   | [Atharva Ingle](https://www.kaggle.com/madhuraatmarambhagat)                                                 |\n",
    "| License      | [Apache 2.0](https://www.apache.org/licenses/LICENSE-2.0)                                                                                |\n",
    "| Visibility   | Publik                                                                                               |\n",
    "| Tags         | Business, Beginner, Classification, Intermediate, Advanced, Agriculture                     |\n",
    "| Usability    | 10.00                                                                                                |\n"
   ]
  },
  {
   "cell_type": "code",
   "execution_count": 2,
   "id": "1faca049",
   "metadata": {},
   "outputs": [
    {
     "data": {
      "application/vnd.microsoft.datawrangler.viewer.v0+json": {
       "columns": [
        {
         "name": "index",
         "rawType": "int64",
         "type": "integer"
        },
        {
         "name": "N",
         "rawType": "int64",
         "type": "integer"
        },
        {
         "name": "P",
         "rawType": "int64",
         "type": "integer"
        },
        {
         "name": "K",
         "rawType": "int64",
         "type": "integer"
        },
        {
         "name": "temperature",
         "rawType": "float64",
         "type": "float"
        },
        {
         "name": "humidity",
         "rawType": "float64",
         "type": "float"
        },
        {
         "name": "ph",
         "rawType": "float64",
         "type": "float"
        },
        {
         "name": "rainfall",
         "rawType": "float64",
         "type": "float"
        },
        {
         "name": "label",
         "rawType": "object",
         "type": "string"
        }
       ],
       "ref": "0ab42934-5f1e-4ec4-a5ec-77eca0ba89b4",
       "rows": [
        [
         "0",
         "90",
         "42",
         "43",
         "20.87974371",
         "82.00274423",
         "6.502985292000001",
         "202.9355362",
         "rice"
        ],
        [
         "1",
         "85",
         "58",
         "41",
         "21.77046169",
         "80.31964408",
         "7.038096361",
         "226.6555374",
         "rice"
        ],
        [
         "2",
         "60",
         "55",
         "44",
         "23.00445915",
         "82.3207629",
         "7.840207144",
         "263.9642476",
         "rice"
        ],
        [
         "3",
         "74",
         "35",
         "40",
         "26.49109635",
         "80.15836264",
         "6.980400905",
         "242.8640342",
         "rice"
        ],
        [
         "4",
         "78",
         "42",
         "42",
         "20.13017482",
         "81.60487287",
         "7.628472891",
         "262.7173405",
         "rice"
        ]
       ],
       "shape": {
        "columns": 8,
        "rows": 5
       }
      },
      "text/html": [
       "<div>\n",
       "<style scoped>\n",
       "    .dataframe tbody tr th:only-of-type {\n",
       "        vertical-align: middle;\n",
       "    }\n",
       "\n",
       "    .dataframe tbody tr th {\n",
       "        vertical-align: top;\n",
       "    }\n",
       "\n",
       "    .dataframe thead th {\n",
       "        text-align: right;\n",
       "    }\n",
       "</style>\n",
       "<table border=\"1\" class=\"dataframe\">\n",
       "  <thead>\n",
       "    <tr style=\"text-align: right;\">\n",
       "      <th></th>\n",
       "      <th>N</th>\n",
       "      <th>P</th>\n",
       "      <th>K</th>\n",
       "      <th>temperature</th>\n",
       "      <th>humidity</th>\n",
       "      <th>ph</th>\n",
       "      <th>rainfall</th>\n",
       "      <th>label</th>\n",
       "    </tr>\n",
       "  </thead>\n",
       "  <tbody>\n",
       "    <tr>\n",
       "      <th>0</th>\n",
       "      <td>90</td>\n",
       "      <td>42</td>\n",
       "      <td>43</td>\n",
       "      <td>20.879744</td>\n",
       "      <td>82.002744</td>\n",
       "      <td>6.502985</td>\n",
       "      <td>202.935536</td>\n",
       "      <td>rice</td>\n",
       "    </tr>\n",
       "    <tr>\n",
       "      <th>1</th>\n",
       "      <td>85</td>\n",
       "      <td>58</td>\n",
       "      <td>41</td>\n",
       "      <td>21.770462</td>\n",
       "      <td>80.319644</td>\n",
       "      <td>7.038096</td>\n",
       "      <td>226.655537</td>\n",
       "      <td>rice</td>\n",
       "    </tr>\n",
       "    <tr>\n",
       "      <th>2</th>\n",
       "      <td>60</td>\n",
       "      <td>55</td>\n",
       "      <td>44</td>\n",
       "      <td>23.004459</td>\n",
       "      <td>82.320763</td>\n",
       "      <td>7.840207</td>\n",
       "      <td>263.964248</td>\n",
       "      <td>rice</td>\n",
       "    </tr>\n",
       "    <tr>\n",
       "      <th>3</th>\n",
       "      <td>74</td>\n",
       "      <td>35</td>\n",
       "      <td>40</td>\n",
       "      <td>26.491096</td>\n",
       "      <td>80.158363</td>\n",
       "      <td>6.980401</td>\n",
       "      <td>242.864034</td>\n",
       "      <td>rice</td>\n",
       "    </tr>\n",
       "    <tr>\n",
       "      <th>4</th>\n",
       "      <td>78</td>\n",
       "      <td>42</td>\n",
       "      <td>42</td>\n",
       "      <td>20.130175</td>\n",
       "      <td>81.604873</td>\n",
       "      <td>7.628473</td>\n",
       "      <td>262.717340</td>\n",
       "      <td>rice</td>\n",
       "    </tr>\n",
       "  </tbody>\n",
       "</table>\n",
       "</div>"
      ],
      "text/plain": [
       "    N   P   K  temperature   humidity        ph    rainfall label\n",
       "0  90  42  43    20.879744  82.002744  6.502985  202.935536  rice\n",
       "1  85  58  41    21.770462  80.319644  7.038096  226.655537  rice\n",
       "2  60  55  44    23.004459  82.320763  7.840207  263.964248  rice\n",
       "3  74  35  40    26.491096  80.158363  6.980401  242.864034  rice\n",
       "4  78  42  42    20.130175  81.604873  7.628473  262.717340  rice"
      ]
     },
     "execution_count": 2,
     "metadata": {},
     "output_type": "execute_result"
    }
   ],
   "source": [
    "import kagglehub\n",
    "path = kagglehub.dataset_download(\"madhuraatmarambhagat/crop-recommendation-dataset\")\n",
    "df = pd.read_csv(path + \"/Crop_recommendation.csv\")\n",
    "df.head()"
   ]
  },
  {
   "cell_type": "markdown",
   "id": "b1581ec0",
   "metadata": {},
   "source": [
    "## Exploratory Data Analysis (EDA)"
   ]
  },
  {
   "cell_type": "markdown",
   "id": "c5100a6c",
   "metadata": {},
   "source": [
    "Menginvestigasi data untuk memahami struktur, pola, dan karakteristik dari data"
   ]
  },
  {
   "cell_type": "markdown",
   "id": "9ca33f24",
   "metadata": {},
   "source": [
    "### Deskripsi Data"
   ]
  },
  {
   "cell_type": "code",
   "execution_count": 3,
   "id": "104c30e7",
   "metadata": {},
   "outputs": [
    {
     "data": {
      "application/vnd.microsoft.datawrangler.viewer.v0+json": {
       "columns": [
        {
         "name": "index",
         "rawType": "int64",
         "type": "integer"
        },
        {
         "name": "N",
         "rawType": "int64",
         "type": "integer"
        },
        {
         "name": "P",
         "rawType": "int64",
         "type": "integer"
        },
        {
         "name": "K",
         "rawType": "int64",
         "type": "integer"
        },
        {
         "name": "temperature",
         "rawType": "float64",
         "type": "float"
        },
        {
         "name": "humidity",
         "rawType": "float64",
         "type": "float"
        },
        {
         "name": "ph",
         "rawType": "float64",
         "type": "float"
        },
        {
         "name": "rainfall",
         "rawType": "float64",
         "type": "float"
        },
        {
         "name": "label",
         "rawType": "object",
         "type": "string"
        }
       ],
       "ref": "6021b9bb-f708-4f35-8081-865e7b830b03",
       "rows": [
        [
         "0",
         "90",
         "42",
         "43",
         "20.87974371",
         "82.00274423",
         "6.502985292000001",
         "202.9355362",
         "rice"
        ],
        [
         "1",
         "85",
         "58",
         "41",
         "21.77046169",
         "80.31964408",
         "7.038096361",
         "226.6555374",
         "rice"
        ],
        [
         "2",
         "60",
         "55",
         "44",
         "23.00445915",
         "82.3207629",
         "7.840207144",
         "263.9642476",
         "rice"
        ],
        [
         "3",
         "74",
         "35",
         "40",
         "26.49109635",
         "80.15836264",
         "6.980400905",
         "242.8640342",
         "rice"
        ],
        [
         "4",
         "78",
         "42",
         "42",
         "20.13017482",
         "81.60487287",
         "7.628472891",
         "262.7173405",
         "rice"
        ],
        [
         "5",
         "69",
         "37",
         "42",
         "23.05804872",
         "83.37011772",
         "7.073453503",
         "251.0549998",
         "rice"
        ],
        [
         "6",
         "69",
         "55",
         "38",
         "22.70883798",
         "82.63941394",
         "5.70080568",
         "271.3248604",
         "rice"
        ],
        [
         "7",
         "94",
         "53",
         "40",
         "20.27774362",
         "82.89408619",
         "5.718627177999999",
         "241.9741949",
         "rice"
        ],
        [
         "8",
         "89",
         "54",
         "38",
         "24.51588066",
         "83.53521629999999",
         "6.685346424",
         "230.4462359",
         "rice"
        ],
        [
         "9",
         "68",
         "58",
         "38",
         "23.22397386",
         "83.03322691",
         "6.336253525",
         "221.2091958",
         "rice"
        ],
        [
         "10",
         "91",
         "53",
         "40",
         "26.52723513",
         "81.41753846",
         "5.386167788",
         "264.6148697",
         "rice"
        ],
        [
         "11",
         "90",
         "46",
         "42",
         "23.97898217",
         "81.45061596",
         "7.50283396",
         "250.0832336",
         "rice"
        ],
        [
         "12",
         "78",
         "58",
         "44",
         "26.80079604",
         "80.88684822",
         "5.108681786",
         "284.4364567",
         "rice"
        ],
        [
         "13",
         "93",
         "56",
         "36",
         "24.01497622",
         "82.05687182",
         "6.98435366",
         "185.2773389",
         "rice"
        ],
        [
         "14",
         "94",
         "50",
         "37",
         "25.66585205",
         "80.66385045",
         "6.94801983",
         "209.5869708",
         "rice"
        ],
        [
         "15",
         "60",
         "48",
         "39",
         "24.28209415",
         "80.30025587",
         "7.042299068999999",
         "231.0863347",
         "rice"
        ],
        [
         "16",
         "85",
         "38",
         "41",
         "21.58711777",
         "82.7883708",
         "6.2490506560000005",
         "276.65524589999995",
         "rice"
        ],
        [
         "17",
         "91",
         "35",
         "39",
         "23.79391957",
         "80.41817957",
         "6.970859754",
         "206.2611855",
         "rice"
        ],
        [
         "18",
         "77",
         "38",
         "36",
         "21.8652524",
         "80.1923008",
         "5.953933276",
         "224.55501690000003",
         "rice"
        ],
        [
         "19",
         "88",
         "35",
         "40",
         "23.57943626",
         "83.58760316",
         "5.85393208",
         "291.2986618000001",
         "rice"
        ],
        [
         "20",
         "89",
         "45",
         "36",
         "21.32504158",
         "80.47476396",
         "6.442475375",
         "185.4974732",
         "rice"
        ],
        [
         "21",
         "76",
         "40",
         "43",
         "25.15745531",
         "83.11713476",
         "5.070175667",
         "231.3843163",
         "rice"
        ],
        [
         "22",
         "67",
         "59",
         "41",
         "21.94766735",
         "80.97384195",
         "6.012632591",
         "213.3560921",
         "rice"
        ],
        [
         "23",
         "83",
         "41",
         "43",
         "21.0525355",
         "82.67839517",
         "6.254028451",
         "233.1075816",
         "rice"
        ],
        [
         "24",
         "98",
         "47",
         "37",
         "23.48381344",
         "81.33265073",
         "7.375482851",
         "224.0581164",
         "rice"
        ],
        [
         "25",
         "66",
         "53",
         "41",
         "25.0756354",
         "80.52389148",
         "7.778915154",
         "257.0038865",
         "rice"
        ],
        [
         "26",
         "97",
         "59",
         "43",
         "26.35927159",
         "84.04403589",
         "6.2865001760000006",
         "271.35861370000003",
         "rice"
        ],
        [
         "27",
         "97",
         "50",
         "41",
         "24.52922681",
         "80.54498576",
         "7.070959995",
         "260.2634026",
         "rice"
        ],
        [
         "28",
         "60",
         "49",
         "44",
         "20.77576147",
         "84.49774397",
         "6.244841491",
         "240.0810647",
         "rice"
        ],
        [
         "29",
         "84",
         "51",
         "35",
         "22.30157427",
         "80.64416466",
         "6.043304899",
         "197.9791215",
         "rice"
        ],
        [
         "30",
         "73",
         "57",
         "41",
         "21.44653958",
         "84.94375962",
         "5.824709117",
         "272.2017204",
         "rice"
        ],
        [
         "31",
         "92",
         "35",
         "40",
         "22.17931888",
         "80.33127223",
         "6.3573893660000005",
         "200.0882787",
         "rice"
        ],
        [
         "32",
         "85",
         "37",
         "39",
         "24.52783742",
         "82.73685569",
         "6.364134967999999",
         "224.67572310000003",
         "rice"
        ],
        [
         "33",
         "98",
         "53",
         "38",
         "20.26707606",
         "81.63895217",
         "5.01450727",
         "270.4417274",
         "rice"
        ],
        [
         "34",
         "88",
         "54",
         "44",
         "25.7354293",
         "83.88266234",
         "6.149410611",
         "233.1321372",
         "rice"
        ],
        [
         "35",
         "95",
         "55",
         "42",
         "26.79533926",
         "82.1480873",
         "5.950660556",
         "193.3473987",
         "rice"
        ],
        [
         "36",
         "99",
         "57",
         "35",
         "26.75754171",
         "81.17734011",
         "5.960370061",
         "272.29990560000005",
         "rice"
        ],
        [
         "37",
         "95",
         "39",
         "36",
         "23.86330467",
         "83.15250801",
         "5.561398642",
         "285.2493645",
         "rice"
        ],
        [
         "38",
         "60",
         "43",
         "44",
         "21.01944696",
         "82.95221726",
         "7.416245107000001",
         "298.40184710000005",
         "rice"
        ],
        [
         "39",
         "63",
         "44",
         "41",
         "24.17298839",
         "83.7287574",
         "5.583370042",
         "257.0343554",
         "rice"
        ],
        [
         "40",
         "62",
         "42",
         "36",
         "22.78133816",
         "82.06719137",
         "6.430010215",
         "248.7183228",
         "rice"
        ],
        [
         "41",
         "64",
         "45",
         "43",
         "25.62980105",
         "83.52842314",
         "5.534878156",
         "209.9001977",
         "rice"
        ],
        [
         "42",
         "83",
         "60",
         "36",
         "25.59704938",
         "80.14509262",
         "6.903985986",
         "200.834898",
         "rice"
        ],
        [
         "43",
         "82",
         "40",
         "40",
         "23.83067496",
         "84.81360127",
         "6.271478837999999",
         "298.5601175",
         "rice"
        ],
        [
         "44",
         "85",
         "52",
         "45",
         "26.31355498",
         "82.36698992",
         "7.224285503",
         "265.5355937",
         "rice"
        ],
        [
         "45",
         "91",
         "35",
         "38",
         "24.8972823",
         "80.52586088",
         "6.13428721",
         "183.6793207",
         "rice"
        ],
        [
         "46",
         "76",
         "49",
         "42",
         "24.958779",
         "84.47963372",
         "5.206373153",
         "196.95600080000003",
         "rice"
        ],
        [
         "47",
         "74",
         "39",
         "38",
         "23.24113501",
         "84.59201843",
         "7.782051312999999",
         "233.0453455",
         "rice"
        ],
        [
         "48",
         "79",
         "43",
         "39",
         "21.66628296",
         "80.70960551",
         "7.062779015",
         "210.8142087",
         "rice"
        ],
        [
         "49",
         "88",
         "55",
         "45",
         "24.63544858",
         "80.41363018",
         "7.730367824",
         "253.7202781",
         "rice"
        ]
       ],
       "shape": {
        "columns": 8,
        "rows": 2200
       }
      },
      "text/html": [
       "<div>\n",
       "<style scoped>\n",
       "    .dataframe tbody tr th:only-of-type {\n",
       "        vertical-align: middle;\n",
       "    }\n",
       "\n",
       "    .dataframe tbody tr th {\n",
       "        vertical-align: top;\n",
       "    }\n",
       "\n",
       "    .dataframe thead th {\n",
       "        text-align: right;\n",
       "    }\n",
       "</style>\n",
       "<table border=\"1\" class=\"dataframe\">\n",
       "  <thead>\n",
       "    <tr style=\"text-align: right;\">\n",
       "      <th></th>\n",
       "      <th>N</th>\n",
       "      <th>P</th>\n",
       "      <th>K</th>\n",
       "      <th>temperature</th>\n",
       "      <th>humidity</th>\n",
       "      <th>ph</th>\n",
       "      <th>rainfall</th>\n",
       "      <th>label</th>\n",
       "    </tr>\n",
       "  </thead>\n",
       "  <tbody>\n",
       "    <tr>\n",
       "      <th>0</th>\n",
       "      <td>90</td>\n",
       "      <td>42</td>\n",
       "      <td>43</td>\n",
       "      <td>20.879744</td>\n",
       "      <td>82.002744</td>\n",
       "      <td>6.502985</td>\n",
       "      <td>202.935536</td>\n",
       "      <td>rice</td>\n",
       "    </tr>\n",
       "    <tr>\n",
       "      <th>1</th>\n",
       "      <td>85</td>\n",
       "      <td>58</td>\n",
       "      <td>41</td>\n",
       "      <td>21.770462</td>\n",
       "      <td>80.319644</td>\n",
       "      <td>7.038096</td>\n",
       "      <td>226.655537</td>\n",
       "      <td>rice</td>\n",
       "    </tr>\n",
       "    <tr>\n",
       "      <th>2</th>\n",
       "      <td>60</td>\n",
       "      <td>55</td>\n",
       "      <td>44</td>\n",
       "      <td>23.004459</td>\n",
       "      <td>82.320763</td>\n",
       "      <td>7.840207</td>\n",
       "      <td>263.964248</td>\n",
       "      <td>rice</td>\n",
       "    </tr>\n",
       "    <tr>\n",
       "      <th>3</th>\n",
       "      <td>74</td>\n",
       "      <td>35</td>\n",
       "      <td>40</td>\n",
       "      <td>26.491096</td>\n",
       "      <td>80.158363</td>\n",
       "      <td>6.980401</td>\n",
       "      <td>242.864034</td>\n",
       "      <td>rice</td>\n",
       "    </tr>\n",
       "    <tr>\n",
       "      <th>4</th>\n",
       "      <td>78</td>\n",
       "      <td>42</td>\n",
       "      <td>42</td>\n",
       "      <td>20.130175</td>\n",
       "      <td>81.604873</td>\n",
       "      <td>7.628473</td>\n",
       "      <td>262.717340</td>\n",
       "      <td>rice</td>\n",
       "    </tr>\n",
       "    <tr>\n",
       "      <th>...</th>\n",
       "      <td>...</td>\n",
       "      <td>...</td>\n",
       "      <td>...</td>\n",
       "      <td>...</td>\n",
       "      <td>...</td>\n",
       "      <td>...</td>\n",
       "      <td>...</td>\n",
       "      <td>...</td>\n",
       "    </tr>\n",
       "    <tr>\n",
       "      <th>2195</th>\n",
       "      <td>107</td>\n",
       "      <td>34</td>\n",
       "      <td>32</td>\n",
       "      <td>26.774637</td>\n",
       "      <td>66.413269</td>\n",
       "      <td>6.780064</td>\n",
       "      <td>177.774507</td>\n",
       "      <td>coffee</td>\n",
       "    </tr>\n",
       "    <tr>\n",
       "      <th>2196</th>\n",
       "      <td>99</td>\n",
       "      <td>15</td>\n",
       "      <td>27</td>\n",
       "      <td>27.417112</td>\n",
       "      <td>56.636362</td>\n",
       "      <td>6.086922</td>\n",
       "      <td>127.924610</td>\n",
       "      <td>coffee</td>\n",
       "    </tr>\n",
       "    <tr>\n",
       "      <th>2197</th>\n",
       "      <td>118</td>\n",
       "      <td>33</td>\n",
       "      <td>30</td>\n",
       "      <td>24.131797</td>\n",
       "      <td>67.225123</td>\n",
       "      <td>6.362608</td>\n",
       "      <td>173.322839</td>\n",
       "      <td>coffee</td>\n",
       "    </tr>\n",
       "    <tr>\n",
       "      <th>2198</th>\n",
       "      <td>117</td>\n",
       "      <td>32</td>\n",
       "      <td>34</td>\n",
       "      <td>26.272418</td>\n",
       "      <td>52.127394</td>\n",
       "      <td>6.758793</td>\n",
       "      <td>127.175293</td>\n",
       "      <td>coffee</td>\n",
       "    </tr>\n",
       "    <tr>\n",
       "      <th>2199</th>\n",
       "      <td>104</td>\n",
       "      <td>18</td>\n",
       "      <td>30</td>\n",
       "      <td>23.603016</td>\n",
       "      <td>60.396475</td>\n",
       "      <td>6.779833</td>\n",
       "      <td>140.937041</td>\n",
       "      <td>coffee</td>\n",
       "    </tr>\n",
       "  </tbody>\n",
       "</table>\n",
       "<p>2200 rows × 8 columns</p>\n",
       "</div>"
      ],
      "text/plain": [
       "        N   P   K  temperature   humidity        ph    rainfall   label\n",
       "0      90  42  43    20.879744  82.002744  6.502985  202.935536    rice\n",
       "1      85  58  41    21.770462  80.319644  7.038096  226.655537    rice\n",
       "2      60  55  44    23.004459  82.320763  7.840207  263.964248    rice\n",
       "3      74  35  40    26.491096  80.158363  6.980401  242.864034    rice\n",
       "4      78  42  42    20.130175  81.604873  7.628473  262.717340    rice\n",
       "...   ...  ..  ..          ...        ...       ...         ...     ...\n",
       "2195  107  34  32    26.774637  66.413269  6.780064  177.774507  coffee\n",
       "2196   99  15  27    27.417112  56.636362  6.086922  127.924610  coffee\n",
       "2197  118  33  30    24.131797  67.225123  6.362608  173.322839  coffee\n",
       "2198  117  32  34    26.272418  52.127394  6.758793  127.175293  coffee\n",
       "2199  104  18  30    23.603016  60.396475  6.779833  140.937041  coffee\n",
       "\n",
       "[2200 rows x 8 columns]"
      ]
     },
     "execution_count": 3,
     "metadata": {},
     "output_type": "execute_result"
    }
   ],
   "source": [
    "df"
   ]
  },
  {
   "cell_type": "code",
   "execution_count": 4,
   "id": "836bf692",
   "metadata": {},
   "outputs": [
    {
     "name": "stdout",
     "output_type": "stream",
     "text": [
      "<class 'pandas.core.frame.DataFrame'>\n",
      "RangeIndex: 2200 entries, 0 to 2199\n",
      "Data columns (total 8 columns):\n",
      " #   Column       Non-Null Count  Dtype  \n",
      "---  ------       --------------  -----  \n",
      " 0   N            2200 non-null   int64  \n",
      " 1   P            2200 non-null   int64  \n",
      " 2   K            2200 non-null   int64  \n",
      " 3   temperature  2200 non-null   float64\n",
      " 4   humidity     2200 non-null   float64\n",
      " 5   ph           2200 non-null   float64\n",
      " 6   rainfall     2200 non-null   float64\n",
      " 7   label        2200 non-null   object \n",
      "dtypes: float64(4), int64(3), object(1)\n",
      "memory usage: 137.6+ KB\n"
     ]
    }
   ],
   "source": [
    "df.info()"
   ]
  },
  {
   "cell_type": "markdown",
   "id": "6758d473",
   "metadata": {},
   "source": [
    "| Nama Fitur     | Deskripsi                                    | Satuan  |\n",
    "|----------------|----------------------------------------------|---------|\n",
    "| `N`            | Kandungan Nitrogen dalam tanah               | mg/kg   |\n",
    "| `P`            | Kandungan Fosfor dalam tanah                 | mg/kg   |\n",
    "| `K`            | Kandungan Kalium dalam tanah                 | mg/kg   |\n",
    "| `temperature`  | Suhu rata-rata lingkungan                    | °C      |\n",
    "| `humidity`     | Kelembaban relatif rata-rata                 | %       |\n",
    "| `ph`           | Derajat keasaman tanah (pH)                  | -       |\n",
    "| `rainfall`     | Curah hujan rata-rata tahunan                | mm      |\n",
    "| `label`        | Jenis tanaman yang paling cocok ditanam berdasarkan kondisi tersebut | Kategori |"
   ]
  },
  {
   "cell_type": "markdown",
   "id": "e7cff54a",
   "metadata": {},
   "source": [
    "Menampilkan jumlah kolom numerik dan kategorik"
   ]
  },
  {
   "cell_type": "code",
   "execution_count": 5,
   "id": "7d1cf2e7",
   "metadata": {},
   "outputs": [
    {
     "name": "stdout",
     "output_type": "stream",
     "text": [
      "jumlah kolom numerik: 7\n",
      "jumlah kolom kategorikal: 1\n"
     ]
    }
   ],
   "source": [
    "print(f\"jumlah kolom numerik: {df.select_dtypes(include=['int64', 'float64']).shape[1]}\")\n",
    "print(f\"jumlah kolom kategorikal: {df.select_dtypes(include=['object']).shape[1]}\")"
   ]
  },
  {
   "cell_type": "markdown",
   "id": "a64d23c8",
   "metadata": {},
   "source": [
    "Menampilkan statistik deskriptif dari data numerik untuk mengetahui sebaran dari data"
   ]
  },
  {
   "cell_type": "code",
   "execution_count": 6,
   "id": "9a7c8662",
   "metadata": {},
   "outputs": [
    {
     "data": {
      "application/vnd.microsoft.datawrangler.viewer.v0+json": {
       "columns": [
        {
         "name": "index",
         "rawType": "object",
         "type": "string"
        },
        {
         "name": "N",
         "rawType": "float64",
         "type": "float"
        },
        {
         "name": "P",
         "rawType": "float64",
         "type": "float"
        },
        {
         "name": "K",
         "rawType": "float64",
         "type": "float"
        },
        {
         "name": "temperature",
         "rawType": "float64",
         "type": "float"
        },
        {
         "name": "humidity",
         "rawType": "float64",
         "type": "float"
        },
        {
         "name": "ph",
         "rawType": "float64",
         "type": "float"
        },
        {
         "name": "rainfall",
         "rawType": "float64",
         "type": "float"
        }
       ],
       "ref": "93261877-247d-4d89-b74e-40ec17448868",
       "rows": [
        [
         "count",
         "2200.0",
         "2200.0",
         "2200.0",
         "2200.0",
         "2200.0",
         "2200.0",
         "2200.0"
        ],
        [
         "mean",
         "50.551818181818184",
         "53.36272727272727",
         "48.14909090909091",
         "25.616243851779544",
         "71.48177921778637",
         "6.469480065256364",
         "103.46365541576817"
        ],
        [
         "std",
         "36.9173338337566",
         "32.98588273858715",
         "50.64793054666013",
         "5.063748599958843",
         "22.263811589761083",
         "0.7739376880298733",
         "54.95838852487813"
        ],
        [
         "min",
         "0.0",
         "5.0",
         "5.0",
         "8.825674745",
         "14.25803981",
         "3.504752314",
         "20.21126747"
        ],
        [
         "25%",
         "21.0",
         "28.0",
         "20.0",
         "22.7693746325",
         "60.2619528025",
         "5.97169279925",
         "64.55168599999999"
        ],
        [
         "50%",
         "37.0",
         "51.0",
         "32.0",
         "25.5986932",
         "80.473145665",
         "6.42504527",
         "94.86762427"
        ],
        [
         "75%",
         "84.25",
         "68.0",
         "49.0",
         "28.5616539325",
         "89.948770755",
         "6.923642621250002",
         "124.2675078"
        ],
        [
         "max",
         "140.0",
         "145.0",
         "205.0",
         "43.67549305",
         "99.98187601",
         "9.93509073",
         "298.5601175"
        ]
       ],
       "shape": {
        "columns": 7,
        "rows": 8
       }
      },
      "text/html": [
       "<div>\n",
       "<style scoped>\n",
       "    .dataframe tbody tr th:only-of-type {\n",
       "        vertical-align: middle;\n",
       "    }\n",
       "\n",
       "    .dataframe tbody tr th {\n",
       "        vertical-align: top;\n",
       "    }\n",
       "\n",
       "    .dataframe thead th {\n",
       "        text-align: right;\n",
       "    }\n",
       "</style>\n",
       "<table border=\"1\" class=\"dataframe\">\n",
       "  <thead>\n",
       "    <tr style=\"text-align: right;\">\n",
       "      <th></th>\n",
       "      <th>N</th>\n",
       "      <th>P</th>\n",
       "      <th>K</th>\n",
       "      <th>temperature</th>\n",
       "      <th>humidity</th>\n",
       "      <th>ph</th>\n",
       "      <th>rainfall</th>\n",
       "    </tr>\n",
       "  </thead>\n",
       "  <tbody>\n",
       "    <tr>\n",
       "      <th>count</th>\n",
       "      <td>2200.000000</td>\n",
       "      <td>2200.000000</td>\n",
       "      <td>2200.000000</td>\n",
       "      <td>2200.000000</td>\n",
       "      <td>2200.000000</td>\n",
       "      <td>2200.000000</td>\n",
       "      <td>2200.000000</td>\n",
       "    </tr>\n",
       "    <tr>\n",
       "      <th>mean</th>\n",
       "      <td>50.551818</td>\n",
       "      <td>53.362727</td>\n",
       "      <td>48.149091</td>\n",
       "      <td>25.616244</td>\n",
       "      <td>71.481779</td>\n",
       "      <td>6.469480</td>\n",
       "      <td>103.463655</td>\n",
       "    </tr>\n",
       "    <tr>\n",
       "      <th>std</th>\n",
       "      <td>36.917334</td>\n",
       "      <td>32.985883</td>\n",
       "      <td>50.647931</td>\n",
       "      <td>5.063749</td>\n",
       "      <td>22.263812</td>\n",
       "      <td>0.773938</td>\n",
       "      <td>54.958389</td>\n",
       "    </tr>\n",
       "    <tr>\n",
       "      <th>min</th>\n",
       "      <td>0.000000</td>\n",
       "      <td>5.000000</td>\n",
       "      <td>5.000000</td>\n",
       "      <td>8.825675</td>\n",
       "      <td>14.258040</td>\n",
       "      <td>3.504752</td>\n",
       "      <td>20.211267</td>\n",
       "    </tr>\n",
       "    <tr>\n",
       "      <th>25%</th>\n",
       "      <td>21.000000</td>\n",
       "      <td>28.000000</td>\n",
       "      <td>20.000000</td>\n",
       "      <td>22.769375</td>\n",
       "      <td>60.261953</td>\n",
       "      <td>5.971693</td>\n",
       "      <td>64.551686</td>\n",
       "    </tr>\n",
       "    <tr>\n",
       "      <th>50%</th>\n",
       "      <td>37.000000</td>\n",
       "      <td>51.000000</td>\n",
       "      <td>32.000000</td>\n",
       "      <td>25.598693</td>\n",
       "      <td>80.473146</td>\n",
       "      <td>6.425045</td>\n",
       "      <td>94.867624</td>\n",
       "    </tr>\n",
       "    <tr>\n",
       "      <th>75%</th>\n",
       "      <td>84.250000</td>\n",
       "      <td>68.000000</td>\n",
       "      <td>49.000000</td>\n",
       "      <td>28.561654</td>\n",
       "      <td>89.948771</td>\n",
       "      <td>6.923643</td>\n",
       "      <td>124.267508</td>\n",
       "    </tr>\n",
       "    <tr>\n",
       "      <th>max</th>\n",
       "      <td>140.000000</td>\n",
       "      <td>145.000000</td>\n",
       "      <td>205.000000</td>\n",
       "      <td>43.675493</td>\n",
       "      <td>99.981876</td>\n",
       "      <td>9.935091</td>\n",
       "      <td>298.560117</td>\n",
       "    </tr>\n",
       "  </tbody>\n",
       "</table>\n",
       "</div>"
      ],
      "text/plain": [
       "                 N            P            K  temperature     humidity  \\\n",
       "count  2200.000000  2200.000000  2200.000000  2200.000000  2200.000000   \n",
       "mean     50.551818    53.362727    48.149091    25.616244    71.481779   \n",
       "std      36.917334    32.985883    50.647931     5.063749    22.263812   \n",
       "min       0.000000     5.000000     5.000000     8.825675    14.258040   \n",
       "25%      21.000000    28.000000    20.000000    22.769375    60.261953   \n",
       "50%      37.000000    51.000000    32.000000    25.598693    80.473146   \n",
       "75%      84.250000    68.000000    49.000000    28.561654    89.948771   \n",
       "max     140.000000   145.000000   205.000000    43.675493    99.981876   \n",
       "\n",
       "                ph     rainfall  \n",
       "count  2200.000000  2200.000000  \n",
       "mean      6.469480   103.463655  \n",
       "std       0.773938    54.958389  \n",
       "min       3.504752    20.211267  \n",
       "25%       5.971693    64.551686  \n",
       "50%       6.425045    94.867624  \n",
       "75%       6.923643   124.267508  \n",
       "max       9.935091   298.560117  "
      ]
     },
     "execution_count": 6,
     "metadata": {},
     "output_type": "execute_result"
    }
   ],
   "source": [
    "df.describe()"
   ]
  },
  {
   "cell_type": "markdown",
   "id": "4c81e777",
   "metadata": {},
   "source": [
    "Menampilkan jumlah baris dan kolom dari data"
   ]
  },
  {
   "cell_type": "code",
   "execution_count": 7,
   "id": "05ad15b4",
   "metadata": {},
   "outputs": [
    {
     "name": "stdout",
     "output_type": "stream",
     "text": [
      "jumlah data: 2200\n",
      "jumlah kolom: 8\n"
     ]
    }
   ],
   "source": [
    "print(f\"jumlah data: {df.shape[0]}\")\n",
    "print(f\"jumlah kolom: {df.shape[1]}\")"
   ]
  },
  {
   "cell_type": "markdown",
   "id": "6d1fd747",
   "metadata": {},
   "source": [
    "### Outliers and Missing Values"
   ]
  },
  {
   "cell_type": "markdown",
   "id": "d0ef2f8b",
   "metadata": {},
   "source": [
    "Menampilkan jumlah nilai yang terduplikat dan hilang"
   ]
  },
  {
   "cell_type": "code",
   "execution_count": null,
   "id": "30becf9a",
   "metadata": {},
   "outputs": [
    {
     "name": "stdout",
     "output_type": "stream",
     "text": [
      "Jumlah nilai yang hilang: 0\n"
     ]
    }
   ],
   "source": [
    "print(f\"Jumlah nilai yang hilang: {df.isnull().sum()}\")"
   ]
  },
  {
   "cell_type": "code",
   "execution_count": 9,
   "id": "5a08cddc",
   "metadata": {},
   "outputs": [
    {
     "name": "stdout",
     "output_type": "stream",
     "text": [
      "Jumlah nilai duplikat: 0\n"
     ]
    }
   ],
   "source": [
    "print(f\"Jumlah nilai duplikat: {df.duplicated().sum()}\")"
   ]
  },
  {
   "cell_type": "markdown",
   "id": "4016ff30",
   "metadata": {},
   "source": [
    "Mengekplorasi sebaran data dari kolom numerik dengan visuali boxplot"
   ]
  },
  {
   "cell_type": "code",
   "execution_count": 10,
   "id": "55aa9b4d",
   "metadata": {},
   "outputs": [
    {
     "data": {
      "image/png": "[encoded data removed]",
      "text/plain": [
       "<Figure size 1200x800 with 7 Axes>"
      ]
     },
     "metadata": {},
     "output_type": "display_data"
    }
   ],
   "source": [
    "df_numeric = df.select_dtypes(include=[np.number])\n",
    "plt.figure(figsize=(12, 8))\n",
    "for col in df_numeric.columns:\n",
    "    plt.subplot(3, 3, df_numeric.columns.get_loc(col) + 1)\n",
    "    sns.boxplot(x=df[col])\n",
    "    plt.title(col)\n",
    "plt.tight_layout()\n",
    "plt.show()"
   ]
  },
  {
   "cell_type": "markdown",
   "id": "b678a020",
   "metadata": {},
   "source": [
    "Dari visualisasi boxplot diperoleh bahwa semua kolom numerik kecuali kolom N (kandungan nitrogen dalam tanah) memiliki outlier (nilai ekstrem) yang dapat memengaruhi hasil analisis dan pemodelan data. Oleh karena itu, digunakan metode interquartile range (IQR) unruk mendeteksi dan menghapus outlier pada data numerik"
   ]
  },
  {
   "cell_type": "code",
   "execution_count": 11,
   "id": "3f0769cd",
   "metadata": {},
   "outputs": [
    {
     "name": "stdout",
     "output_type": "stream",
     "text": [
      "Jumlah data setelah menghapus outlier: 1768\n"
     ]
    }
   ],
   "source": [
    "Q1 = df_numeric.quantile(0.25)\n",
    "Q3 = df_numeric.quantile(0.75)\n",
    "IQR = Q3 - Q1\n",
    "\n",
    "filter_outliers = ~((df_numeric < (Q1 - 1.5 * IQR)) | (df_numeric > (Q3 + 1.5 * IQR))).any(axis=1)\n",
    "df = df[filter_outliers]\n",
    "print(f\"Jumlah data setelah menghapus outlier: {df.shape[0]}\")"
   ]
  },
  {
   "cell_type": "markdown",
   "id": "5ba268dc",
   "metadata": {},
   "source": [
    "### Univariate Analysis"
   ]
  },
  {
   "cell_type": "markdown",
   "id": "fc3e1419",
   "metadata": {},
   "source": [
    "Membuat visualisasi histogram untuk mengetahui sebaran data setelah dilakukan filter terhadap outlier pada kolom numerik"
   ]
  },
  {
   "cell_type": "code",
   "execution_count": 12,
   "id": "56376cab",
   "metadata": {},
   "outputs": [
    {
     "data": {
      "image/png": "[encoded data removed]",
      "text/plain": [
       "<Figure size 1200x800 with 7 Axes>"
      ]
     },
     "metadata": {},
     "output_type": "display_data"
    }
   ],
   "source": [
    "df_numeric_filtered = df.drop(columns=['label'])\n",
    "plt.figure(figsize=(12, 8))\n",
    "\n",
    "for col in df_numeric_filtered.columns:\n",
    "    plt.subplot(3, 3, df.columns.get_loc(col) + 1)\n",
    "    sns.histplot(df[col], bins=20, kde=True)\n",
    "    \n",
    "    mean_val = df[col].mean()\n",
    "    skew_val = skew(df[col].dropna())\n",
    "    \n",
    "    plt.axvline(mean_val, color='r', linestyle='--')\n",
    "    plt.title(col)\n",
    "    plt.text(mean_val, plt.gca().get_ylim()[1]*0.9, f\"Mean: {mean_val:.2f}\", color='r')\n",
    "    plt.xlabel(f'Skewness: {skew_val:.2f}')\n",
    "\n",
    "plt.tight_layout()\n",
    "plt.show()"
   ]
  },
  {
   "cell_type": "markdown",
   "id": "ee28d467",
   "metadata": {},
   "source": [
    "\n",
    "| Nama Fitur    | Mean  | Skewness | Keterangan                                                        |\n",
    "|---------------|-------|----------|------------------------------------------------------------------|\n",
    "| `N`           | 54.33 | 0.35     | Distribusi sedikit miring ke kanan, relatif mendekati simetris.  |\n",
    "| `P`           | 44.85 | 0.00     | Distribusi sangat simetris dengan data tersebar cukup merata.    |\n",
    "| `K`           | 31.72 | 1.00     | Distribusi miring ke kanan dengan ekor data lebih panjang.       |\n",
    "| `temperature` | 25.84 | -0.07    | Distribusi cukup normal dengan sedikit kemiringan ke kiri.       |\n",
    "| `humidity`    | 70.11 | -0.94    | Distribusi miring ke kiri dengan ekor data lebih panjang.        |\n",
    "| `ph`          | 6.48  | -0.07    | Distribusi mendekati normal dan hampir simetris.                 |\n",
    "| `rainfall`    | 98.00 | 0.54     | Distribusi sedikit miring ke kanan.                              |\n",
    "| `label encoded`| 9.18 | 0.08     | Data numerik hasil encoding dengan distribusi cukup simetris.    |\n"
   ]
  },
  {
   "cell_type": "markdown",
   "id": "17d40c43",
   "metadata": {},
   "source": [
    "### Multivariate Analysis"
   ]
  },
  {
   "cell_type": "markdown",
   "id": "3928a3c0",
   "metadata": {},
   "source": [
    "Membuat heatmap koralasi untuk mengetahui kekuatan hubungan antara pasangan data pada kolom numerik"
   ]
  },
  {
   "cell_type": "code",
   "execution_count": 13,
   "id": "264f5655",
   "metadata": {},
   "outputs": [
    {
     "data": {
      "image/png": "[encoded data removed]",
      "text/plain": [
       "<Figure size 1200x800 with 2 Axes>"
      ]
     },
     "metadata": {},
     "output_type": "display_data"
    }
   ],
   "source": [
    "plt.figure(figsize=(12, 8))\n",
    "sns.heatmap(df_numeric_filtered.corr(), annot=True, fmt=\".2f\",)\n",
    "plt.title(\"Correlation Heatmap\")\n",
    "plt.show()"
   ]
  },
  {
   "cell_type": "markdown",
   "id": "ff308bcf",
   "metadata": {},
   "source": [
    "### Fitur Target"
   ]
  },
  {
   "cell_type": "markdown",
   "id": "e45171fc",
   "metadata": {},
   "source": [
    "Membuat countplot kolom target untuk mengetahui sebaran data untuk masing-masing kelas"
   ]
  },
  {
   "cell_type": "code",
   "execution_count": 14,
   "id": "78cfa2b7",
   "metadata": {},
   "outputs": [
    {
     "data": {
      "text/plain": [
       "([0, 1, 2, 3, 4, 5, 6, 7, 8, 9, 10, 11, 12, 13, 14, 15, 16, 17, 18, 19],\n",
       " [Text(0, 0, 'rice'),\n",
       "  Text(1, 0, 'maize'),\n",
       "  Text(2, 0, 'chickpea'),\n",
       "  Text(3, 0, 'kidneybeans'),\n",
       "  Text(4, 0, 'pigeonpeas'),\n",
       "  Text(5, 0, 'mothbeans'),\n",
       "  Text(6, 0, 'mungbean'),\n",
       "  Text(7, 0, 'blackgram'),\n",
       "  Text(8, 0, 'lentil'),\n",
       "  Text(9, 0, 'pomegranate'),\n",
       "  Text(10, 0, 'banana'),\n",
       "  Text(11, 0, 'mango'),\n",
       "  Text(12, 0, 'watermelon'),\n",
       "  Text(13, 0, 'muskmelon'),\n",
       "  Text(14, 0, 'orange'),\n",
       "  Text(15, 0, 'papaya'),\n",
       "  Text(16, 0, 'coconut'),\n",
       "  Text(17, 0, 'cotton'),\n",
       "  Text(18, 0, 'jute'),\n",
       "  Text(19, 0, 'coffee')])"
      ]
     },
     "execution_count": 14,
     "metadata": {},
     "output_type": "execute_result"
    },
    {
     "data": {
      "image/png": "[encoded data removed]",
      "text/plain": [
       "<Figure size 1200x800 with 1 Axes>"
      ]
     },
     "metadata": {},
     "output_type": "display_data"
    }
   ],
   "source": [
    "plt.figure(figsize=(12, 8))\n",
    "sns.countplot(x='label', data=df)\n",
    "plt.title('Distribution of Crop Labels')\n",
    "plt.xticks(rotation=45)"
   ]
  },
  {
   "cell_type": "markdown",
   "id": "04066d37",
   "metadata": {},
   "source": [
    "Memeriksa jumlah kelas dan sebaran data dari tiap kelas"
   ]
  },
  {
   "cell_type": "code",
   "execution_count": 15,
   "id": "8d251a59",
   "metadata": {},
   "outputs": [
    {
     "name": "stdout",
     "output_type": "stream",
     "text": [
      "Jumlah kelas: 20\n",
      "Jumlah data per kelas:\n",
      "label\n",
      "maize          100\n",
      "kidneybeans    100\n",
      "mungbean       100\n",
      "pigeonpeas     100\n",
      "coffee         100\n",
      "cotton         100\n",
      "blackgram      100\n",
      "lentil         100\n",
      "banana         100\n",
      "pomegranate    100\n",
      "muskmelon      100\n",
      "watermelon     100\n",
      "jute           100\n",
      "mango           98\n",
      "coconut         85\n",
      "orange          83\n",
      "mothbeans       58\n",
      "chickpea        58\n",
      "papaya          54\n",
      "rice            32\n",
      "Name: count, dtype: int64\n"
     ]
    }
   ],
   "source": [
    "print(f\"Jumlah kelas: {df.label.nunique()}\")\n",
    "print(f\"Jumlah data per kelas:\\n{df.label.value_counts()}\")"
   ]
  },
  {
   "cell_type": "markdown",
   "id": "116f823b",
   "metadata": {},
   "source": [
    "# Data Preparation"
   ]
  },
  {
   "cell_type": "markdown",
   "id": "b5b8b7e5",
   "metadata": {},
   "source": [
    "Mempersiapkan data untuk membuat model machine learning"
   ]
  },
  {
   "cell_type": "markdown",
   "id": "c55e17fa",
   "metadata": {},
   "source": [
    "## Data Cleaning"
   ]
  },
  {
   "cell_type": "markdown",
   "id": "e5f52922",
   "metadata": {},
   "source": [
    "Mengubah label kategorik menjadi fitur numerik supaya dapat dikenali oleh model"
   ]
  },
  {
   "cell_type": "code",
   "execution_count": 16,
   "id": "05a889e8",
   "metadata": {},
   "outputs": [
    {
     "name": "stderr",
     "output_type": "stream",
     "text": [
      "C:\\Users\\acer\\AppData\\Local\\Temp\\ipykernel_27208\\1787693574.py:1: SettingWithCopyWarning: \n",
      "A value is trying to be set on a copy of a slice from a DataFrame.\n",
      "Try using .loc[row_indexer,col_indexer] = value instead\n",
      "\n",
      "See the caveats in the documentation: https://pandas.pydata.org/pandas-docs/stable/user_guide/indexing.html#returning-a-view-versus-a-copy\n",
      "  df['label_encoded'] = df['label'].astype('category').cat.codes\n"
     ]
    },
    {
     "data": {
      "text/plain": [
       "<Axes: xlabel='label_encoded'>"
      ]
     },
     "execution_count": 16,
     "metadata": {},
     "output_type": "execute_result"
    },
    {
     "data": {
      "image/png": "[encoded data removed]",
      "text/plain": [
       "<Figure size 640x480 with 1 Axes>"
      ]
     },
     "metadata": {},
     "output_type": "display_data"
    }
   ],
   "source": [
    "df['label_encoded'] = df['label'].astype('category').cat.codes\n",
    "df['label_encoded'].value_counts().plot(kind='bar')"
   ]
  },
  {
   "cell_type": "markdown",
   "id": "7c33cbfe",
   "metadata": {},
   "source": [
    "memisah data menjadi X (variabel prediktor) dan Y (variabel respons)"
   ]
  },
  {
   "cell_type": "code",
   "execution_count": 17,
   "id": "5575c72b",
   "metadata": {},
   "outputs": [
    {
     "name": "stdout",
     "output_type": "stream",
     "text": [
      "Jumlah data: 1768\n",
      "Jumlah fitur: 7\n",
      "Jumlah kelas: 20\n"
     ]
    }
   ],
   "source": [
    "X = df.drop(columns=['label', 'label_encoded'])\n",
    "y = df['label_encoded']\n",
    "\n",
    "print(f\"Jumlah data: {X.shape[0]}\")\n",
    "print(f\"Jumlah fitur: {X.shape[1]}\")\n",
    "print(f\"Jumlah kelas: {y.nunique()}\")"
   ]
  },
  {
   "cell_type": "markdown",
   "id": "7cea52f0",
   "metadata": {},
   "source": [
    "## Train-Test Split"
   ]
  },
  {
   "cell_type": "markdown",
   "id": "5129bf2d",
   "metadata": {},
   "source": [
    "Membagi data menjadi dua bagian sebagai data latih (train) dan data uji (test)"
   ]
  },
  {
   "cell_type": "code",
   "execution_count": 18,
   "id": "e1c0d0af",
   "metadata": {},
   "outputs": [
    {
     "name": "stdout",
     "output_type": "stream",
     "text": [
      "Jumlah data keseluruhan: 1768\n",
      "Jumlah data latih: 1414\n",
      "Jumlah data uji: 354\n"
     ]
    }
   ],
   "source": [
    "X_train, X_test, y_train, y_test = train_test_split(X, y, test_size=0.2, random_state=42, stratify=y)\n",
    "print(f\"Jumlah data keseluruhan: {df.shape[0]}\")\n",
    "print(f\"Jumlah data latih: {X_train.shape[0]}\")\n",
    "print(f\"Jumlah data uji: {X_test.shape[0]}\")"
   ]
  },
  {
   "cell_type": "markdown",
   "id": "208242fd",
   "metadata": {},
   "source": [
    "## Standarisasi"
   ]
  },
  {
   "cell_type": "markdown",
   "id": "ec76f263",
   "metadata": {},
   "source": [
    "Menlakukan scaling pada data supaya model machine learning memiliki perporma yang lebih baik"
   ]
  },
  {
   "cell_type": "code",
   "execution_count": 19,
   "id": "8508173d",
   "metadata": {},
   "outputs": [],
   "source": [
    "scaler = StandardScaler()\n",
    "X_train_scaled = scaler.fit_transform(X_train)\n",
    "X_test_scaled = scaler.transform(X_test)"
   ]
  },
  {
   "cell_type": "markdown",
   "id": "8da3e158",
   "metadata": {},
   "source": [
    "# Model Development"
   ]
  },
  {
   "cell_type": "markdown",
   "id": "5ae476ca",
   "metadata": {},
   "source": [
    "Melatih model klasifikasi machine learning untuk membuat prediksi"
   ]
  },
  {
   "cell_type": "code",
   "execution_count": 20,
   "id": "6773110b",
   "metadata": {},
   "outputs": [],
   "source": [
    "models = {\n",
    "    'Decision Tree': DecisionTreeClassifier(random_state=42),\n",
    "    'Random Forest': RandomForestClassifier(random_state=42),\n",
    "    'KNN': KNeighborsClassifier()\n",
    "}\n",
    "\n",
    "results = []\n",
    "n_classes = len(np.unique(y_train))\n",
    "\n",
    "for name, model in models.items():\n",
    "    model.fit(X_train_scaled, y_train)\n",
    "    \n",
    "    y_train_pred = model.predict(X_train_scaled)\n",
    "    y_test_pred = model.predict(X_test_scaled)\n",
    "\n",
    "    train_acc = accuracy_score(y_train, y_train_pred)\n",
    "    test_acc = accuracy_score(y_test, y_test_pred)\n",
    "\n",
    "    # Inisialisasi y_proba\n",
    "    y_proba = None\n",
    "\n",
    "    if hasattr(model, \"predict_proba\"):\n",
    "        y_proba = model.predict_proba(X_test_scaled)\n",
    "    else:\n",
    "        try:\n",
    "            y_score = model.decision_function(X_test_scaled)\n",
    "            if len(y_score.shape) == 1:\n",
    "                y_score = (y_score - y_score.min()) / (y_score.max() - y_score.min())\n",
    "                y_proba = np.vstack([1 - y_score, y_score]).T\n",
    "            else:\n",
    "                y_proba = y_score\n",
    "        except:\n",
    "            y_proba = None\n",
    "\n",
    "    if y_proba is not None and len(y_proba.shape) == 2:\n",
    "        try:\n",
    "            roc = roc_auc_score(y_test, y_proba, multi_class='ovr')\n",
    "        except:\n",
    "            roc = np.nan\n",
    "    else:\n",
    "        roc = np.nan\n",
    "\n",
    "    # Tentukan apakah overfitting berdasarkan selisih > 0.1\n",
    "    overfit_status = \"Overfitting\" if train_acc - test_acc > 0.05 else \"No\"\n",
    "\n",
    "    results.append({\n",
    "        'Model': name,\n",
    "        'Train Accuracy': round(train_acc, 3),\n",
    "        'Test Accuracy': round(test_acc, 3),\n",
    "        'ROC AUC': round(roc, 3) if not np.isnan(roc) else np.nan,\n",
    "        'Overfitting': overfit_status\n",
    "    })\n",
    "\n",
    "# Tampilkan hasil\n",
    "results_df = pd.DataFrame(results).sort_values('ROC AUC', ascending=False)"
   ]
  },
  {
   "cell_type": "markdown",
   "id": "843b6d6c",
   "metadata": {},
   "source": [
    "# Evaluasi"
   ]
  },
  {
   "cell_type": "markdown",
   "id": "03528a41",
   "metadata": {},
   "source": [
    "Mengevaluasi model klasifikasi stelah dilakukan pelatihan\n",
    "\n",
    "Evaluasi model menggunakan metrik ROC AUC karena metrik ini dapat mengukur **kemampuan model dalam membedakan antara kelas positif dan negatif secara menyeluruh, tanpa bergantung pada satu nilai threshold tertentu**. ROC AUC mempertimbangkan seluruh kemungkinan ambang batas klasifikasi dan memberikan gambaran umum tentang performa model dalam hal trade-off antara sensitivitas (*True Positive Rate*) dan spesifisitas (*1 - False Positive Rate*)."
   ]
  },
  {
   "cell_type": "code",
   "execution_count": 21,
   "id": "64e4d2cd",
   "metadata": {},
   "outputs": [
    {
     "data": {
      "application/vnd.microsoft.datawrangler.viewer.v0+json": {
       "columns": [
        {
         "name": "index",
         "rawType": "int64",
         "type": "integer"
        },
        {
         "name": "Model",
         "rawType": "object",
         "type": "string"
        },
        {
         "name": "Train Accuracy",
         "rawType": "float64",
         "type": "float"
        },
        {
         "name": "Test Accuracy",
         "rawType": "float64",
         "type": "float"
        },
        {
         "name": "ROC AUC",
         "rawType": "float64",
         "type": "float"
        },
        {
         "name": "Overfitting",
         "rawType": "object",
         "type": "string"
        }
       ],
       "ref": "7c14bb79-ad6d-41b9-99d9-e8be7fbe3f2a",
       "rows": [
        [
         "1",
         "Random Forest",
         "1.0",
         "0.994",
         "1.0",
         "No"
        ],
        [
         "0",
         "Decision Tree",
         "1.0",
         "0.997",
         "0.996",
         "No"
        ],
        [
         "2",
         "KNN",
         "0.981",
         "0.966",
         "0.992",
         "No"
        ]
       ],
       "shape": {
        "columns": 5,
        "rows": 3
       }
      },
      "text/html": [
       "<div>\n",
       "<style scoped>\n",
       "    .dataframe tbody tr th:only-of-type {\n",
       "        vertical-align: middle;\n",
       "    }\n",
       "\n",
       "    .dataframe tbody tr th {\n",
       "        vertical-align: top;\n",
       "    }\n",
       "\n",
       "    .dataframe thead th {\n",
       "        text-align: right;\n",
       "    }\n",
       "</style>\n",
       "<table border=\"1\" class=\"dataframe\">\n",
       "  <thead>\n",
       "    <tr style=\"text-align: right;\">\n",
       "      <th></th>\n",
       "      <th>Model</th>\n",
       "      <th>Train Accuracy</th>\n",
       "      <th>Test Accuracy</th>\n",
       "      <th>ROC AUC</th>\n",
       "      <th>Overfitting</th>\n",
       "    </tr>\n",
       "  </thead>\n",
       "  <tbody>\n",
       "    <tr>\n",
       "      <th>1</th>\n",
       "      <td>Random Forest</td>\n",
       "      <td>1.000</td>\n",
       "      <td>0.994</td>\n",
       "      <td>1.000</td>\n",
       "      <td>No</td>\n",
       "    </tr>\n",
       "    <tr>\n",
       "      <th>0</th>\n",
       "      <td>Decision Tree</td>\n",
       "      <td>1.000</td>\n",
       "      <td>0.997</td>\n",
       "      <td>0.996</td>\n",
       "      <td>No</td>\n",
       "    </tr>\n",
       "    <tr>\n",
       "      <th>2</th>\n",
       "      <td>KNN</td>\n",
       "      <td>0.981</td>\n",
       "      <td>0.966</td>\n",
       "      <td>0.992</td>\n",
       "      <td>No</td>\n",
       "    </tr>\n",
       "  </tbody>\n",
       "</table>\n",
       "</div>"
      ],
      "text/plain": [
       "           Model  Train Accuracy  Test Accuracy  ROC AUC Overfitting\n",
       "1  Random Forest           1.000          0.994    1.000          No\n",
       "0  Decision Tree           1.000          0.997    0.996          No\n",
       "2            KNN           0.981          0.966    0.992          No"
      ]
     },
     "execution_count": 21,
     "metadata": {},
     "output_type": "execute_result"
    }
   ],
   "source": [
    "results_sorted = results_df.sort_values('ROC AUC', ascending=False)\n",
    "results_sorted"
   ]
  },
  {
   "cell_type": "markdown",
   "id": "5495ce74",
   "metadata": {},
   "source": [
    "Interpretasi:\n",
    "- **Random Forest** dan **Decision Tree** mencapai akurasi sempurna (1.000) pada data pelatihan, menunjukkan model mampu menangkap pola dengan sangat baik. Namun, tidak terjadi overfitting karena akurasi pada data uji tetap sangat tinggi (di atas 0.99), dan nilai ROC AUC mendekati 1.000.\n",
    "- **KNN** memiliki akurasi train dan test yang lebih rendah dibanding model lain, namun tetap tinggi dan seimbang, menunjukkan generalisasi yang baik. Nilai ROC AUC juga sangat tinggi (0.992), menandakan bahwa model ini tetap mampu membedakan kelas dengan baik.\n",
    "\n",
    "Kesimpulan:\n",
    "Semua model menunjukkan performa sangat baik tanpa indikasi overfitting. Random Forest dan Decision Tree tampil sebagai model terbaik dengan akurasi tinggi dan stabilitas yang sangat baik. KNN memberikan alternatif yang lebih ringan namun tetap efektif."
   ]
  },
  {
   "cell_type": "markdown",
   "id": "da204050",
   "metadata": {},
   "source": [
    "Membuat visualisasi performa dari model"
   ]
  },
  {
   "cell_type": "code",
   "execution_count": 22,
   "id": "69884658",
   "metadata": {},
   "outputs": [
    {
     "name": "stderr",
     "output_type": "stream",
     "text": [
      "C:\\Users\\acer\\AppData\\Local\\Temp\\ipykernel_27208\\2170737730.py:2: FutureWarning: \n",
      "\n",
      "Passing `palette` without assigning `hue` is deprecated and will be removed in v0.14.0. Assign the `y` variable to `hue` and set `legend=False` for the same effect.\n",
      "\n",
      "  sns.barplot(y='Model', x='ROC AUC', data=results_sorted, palette='viridis')\n"
     ]
    },
    {
     "data": {
      "text/plain": [
       "Text(0.5, 1.0, 'Model Comparison - ROC AUC')"
      ]
     },
     "execution_count": 22,
     "metadata": {},
     "output_type": "execute_result"
    },
    {
     "data": {
      "image/png": "[encoded data removed]",
      "text/plain": [
       "<Figure size 1200x800 with 1 Axes>"
      ]
     },
     "metadata": {},
     "output_type": "display_data"
    }
   ],
   "source": [
    "plt.figure(figsize=(12, 8))\n",
    "sns.barplot(y='Model', x='ROC AUC', data=results_sorted, palette='viridis')\n",
    "plt.title('Model Comparison - ROC AUC')"
   ]
  }
 ],
 "metadata": {
  "kernelspec": {
   "display_name": ".venv",
   "language": "python",
   "name": "python3"
  },
  "language_info": {
   "codemirror_mode": {
    "name": "ipython",
    "version": 3
   },
   "file_extension": ".py",
   "mimetype": "text/x-python",
   "name": "python",
   "nbconvert_exporter": "python",
   "pygments_lexer": "ipython3",
   "version": "3.11.9"
  }
 },
 "nbformat": 4,
 "nbformat_minor": 5
}
